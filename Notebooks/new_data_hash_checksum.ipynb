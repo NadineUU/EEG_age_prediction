{
 "cells": [
  {
   "cell_type": "markdown",
   "id": "15a85b35",
   "metadata": {},
   "source": [
    "# Checksum for EEG data collected around 2022"
   ]
  },
  {
   "cell_type": "markdown",
   "id": "88969c16",
   "metadata": {},
   "source": [
    "The following notebook has been created to make checksum for the new EEG files and metadatafiles with them from 2022/ sent by Dr. Wanrooij in March."
   ]
  },
  {
   "cell_type": "code",
   "execution_count": 1,
   "id": "f40c419a",
   "metadata": {},
   "outputs": [],
   "source": [
    "# import libraries \n",
    "import glob\n",
    "import os\n",
    "\n",
    "import pandas as pd\n",
    "import numpy as np\n",
    "\n",
    "#import mne\n",
    "import hashlib\n",
    "import h5py\n",
    "#import fnmatch\n",
    "import warnings\n",
    "import re\n",
    "\n",
    "warnings.filterwarnings('ignore')"
   ]
  },
  {
   "cell_type": "markdown",
   "id": "75cf7098",
   "metadata": {},
   "source": [
    "Step 1: Let's pair each of our files (by the content inside) with a hash, and throw the info in a dataframe"
   ]
  },
  {
   "cell_type": "code",
   "execution_count": 22,
   "id": "9199c77c",
   "metadata": {},
   "outputs": [],
   "source": [
    "def hash_it_up_right_bdf(origin_folder1):\n",
    "    hash_list = []\n",
    "    file_names = []\n",
    "    non_suspects1 = glob.glob(os.path.join(origin_folder1, '*.bdf'))\n",
    "    BUF_SIZE = 65536\n",
    "    for file in non_suspects1:\n",
    "        sha256 = hashlib.sha256()\n",
    "        with open(file, 'rb') as f:\n",
    "            while True:\n",
    "                data = f.read(BUF_SIZE)\n",
    "                if not data:\n",
    "                    break\n",
    "                sha256.update(data)\n",
    "        result = sha256.hexdigest()\n",
    "        hash_list.append(result)\n",
    "        file_names.append(file)\n",
    "        \n",
    "    df = pd.DataFrame(hash_list, file_names)\n",
    "    df.columns = [\"hash\"]\n",
    "    df = df.reset_index() \n",
    "    df = df.rename(columns = {'index':'file_name'})\n",
    "    \n",
    "    return df"
   ]
  },
  {
   "cell_type": "code",
   "execution_count": 23,
   "id": "ae6369f0",
   "metadata": {},
   "outputs": [],
   "source": [
    "eeg_files_folder = 'C:/Projects/new_data_karin_EEG/*/*/*/*/'"
   ]
  },
  {
   "cell_type": "code",
   "execution_count": 25,
   "id": "bd34742f",
   "metadata": {},
   "outputs": [],
   "source": [
    "march2022_data_eegs = hash_it_up_right_bdf(eeg_files_folder)\n"
   ]
  },
  {
   "cell_type": "code",
   "execution_count": 26,
   "id": "179453ad",
   "metadata": {},
   "outputs": [
    {
     "data": {
      "text/html": [
       "<div>\n",
       "<style scoped>\n",
       "    .dataframe tbody tr th:only-of-type {\n",
       "        vertical-align: middle;\n",
       "    }\n",
       "\n",
       "    .dataframe tbody tr th {\n",
       "        vertical-align: top;\n",
       "    }\n",
       "\n",
       "    .dataframe thead th {\n",
       "        text-align: right;\n",
       "    }\n",
       "</style>\n",
       "<table border=\"1\" class=\"dataframe\">\n",
       "  <thead>\n",
       "    <tr style=\"text-align: right;\">\n",
       "      <th></th>\n",
       "      <th>file_name</th>\n",
       "      <th>hash</th>\n",
       "    </tr>\n",
       "  </thead>\n",
       "  <tbody>\n",
       "    <tr>\n",
       "      <th>0</th>\n",
       "      <td>C:/Projects/new_data_karin_EEG\\101to110\\101to1...</td>\n",
       "      <td>97e798f2664a35415c365fb9dc8d2a48b0d78ce7175563...</td>\n",
       "    </tr>\n",
       "    <tr>\n",
       "      <th>1</th>\n",
       "      <td>C:/Projects/new_data_karin_EEG\\101to110\\101to1...</td>\n",
       "      <td>9ed4f56609f074c1d8b848b58fd12cbd83c1dd10599c00...</td>\n",
       "    </tr>\n",
       "    <tr>\n",
       "      <th>2</th>\n",
       "      <td>C:/Projects/new_data_karin_EEG\\101to110\\101to1...</td>\n",
       "      <td>bd7472700e1e2a24beed8379cb598bc05e91ed9866af2f...</td>\n",
       "    </tr>\n",
       "    <tr>\n",
       "      <th>3</th>\n",
       "      <td>C:/Projects/new_data_karin_EEG\\101to110\\101to1...</td>\n",
       "      <td>cfdaa9a9719cd0cf808b461d936f09029f3d7426b58f97...</td>\n",
       "    </tr>\n",
       "    <tr>\n",
       "      <th>4</th>\n",
       "      <td>C:/Projects/new_data_karin_EEG\\101to110\\101to1...</td>\n",
       "      <td>bc03458f8a97a79bcca7403a1158ac0394c8410ca6a46e...</td>\n",
       "    </tr>\n",
       "    <tr>\n",
       "      <th>...</th>\n",
       "      <td>...</td>\n",
       "      <td>...</td>\n",
       "    </tr>\n",
       "    <tr>\n",
       "      <th>92</th>\n",
       "      <td>C:/Projects/new_data_karin_EEG\\151to160\\151to1...</td>\n",
       "      <td>9f44d4d04231b8b18734beb78c1ad78842c3f552ffbc08...</td>\n",
       "    </tr>\n",
       "    <tr>\n",
       "      <th>93</th>\n",
       "      <td>C:/Projects/new_data_karin_EEG\\151to160\\151to1...</td>\n",
       "      <td>252f2049534ed5e752dfb87ad0ee26dac51689f34e8ded...</td>\n",
       "    </tr>\n",
       "    <tr>\n",
       "      <th>94</th>\n",
       "      <td>C:/Projects/new_data_karin_EEG\\151to160\\151to1...</td>\n",
       "      <td>21ce954cb320943bb7485af56c6a37652df2663de7c0f8...</td>\n",
       "    </tr>\n",
       "    <tr>\n",
       "      <th>95</th>\n",
       "      <td>C:/Projects/new_data_karin_EEG\\151to160\\151to1...</td>\n",
       "      <td>21ce954cb320943bb7485af56c6a37652df2663de7c0f8...</td>\n",
       "    </tr>\n",
       "    <tr>\n",
       "      <th>96</th>\n",
       "      <td>C:/Projects/new_data_karin_EEG\\151to160\\151to1...</td>\n",
       "      <td>c39897f4f6824f6e5fd264ac82a96b9faf383e70aa7882...</td>\n",
       "    </tr>\n",
       "  </tbody>\n",
       "</table>\n",
       "<p>97 rows × 2 columns</p>\n",
       "</div>"
      ],
      "text/plain": [
       "                                            file_name  \\\n",
       "0   C:/Projects/new_data_karin_EEG\\101to110\\101to1...   \n",
       "1   C:/Projects/new_data_karin_EEG\\101to110\\101to1...   \n",
       "2   C:/Projects/new_data_karin_EEG\\101to110\\101to1...   \n",
       "3   C:/Projects/new_data_karin_EEG\\101to110\\101to1...   \n",
       "4   C:/Projects/new_data_karin_EEG\\101to110\\101to1...   \n",
       "..                                                ...   \n",
       "92  C:/Projects/new_data_karin_EEG\\151to160\\151to1...   \n",
       "93  C:/Projects/new_data_karin_EEG\\151to160\\151to1...   \n",
       "94  C:/Projects/new_data_karin_EEG\\151to160\\151to1...   \n",
       "95  C:/Projects/new_data_karin_EEG\\151to160\\151to1...   \n",
       "96  C:/Projects/new_data_karin_EEG\\151to160\\151to1...   \n",
       "\n",
       "                                                 hash  \n",
       "0   97e798f2664a35415c365fb9dc8d2a48b0d78ce7175563...  \n",
       "1   9ed4f56609f074c1d8b848b58fd12cbd83c1dd10599c00...  \n",
       "2   bd7472700e1e2a24beed8379cb598bc05e91ed9866af2f...  \n",
       "3   cfdaa9a9719cd0cf808b461d936f09029f3d7426b58f97...  \n",
       "4   bc03458f8a97a79bcca7403a1158ac0394c8410ca6a46e...  \n",
       "..                                                ...  \n",
       "92  9f44d4d04231b8b18734beb78c1ad78842c3f552ffbc08...  \n",
       "93  252f2049534ed5e752dfb87ad0ee26dac51689f34e8ded...  \n",
       "94  21ce954cb320943bb7485af56c6a37652df2663de7c0f8...  \n",
       "95  21ce954cb320943bb7485af56c6a37652df2663de7c0f8...  \n",
       "96  c39897f4f6824f6e5fd264ac82a96b9faf383e70aa7882...  \n",
       "\n",
       "[97 rows x 2 columns]"
      ]
     },
     "execution_count": 26,
     "metadata": {},
     "output_type": "execute_result"
    }
   ],
   "source": [
    "march2022_data_eegs"
   ]
  },
  {
   "cell_type": "code",
   "execution_count": 27,
   "id": "e790019e",
   "metadata": {},
   "outputs": [],
   "source": [
    "#march2022_data_eegs.to_csv('march2022_data_eegs.to_csv')"
   ]
  },
  {
   "cell_type": "code",
   "execution_count": null,
   "id": "5d493941",
   "metadata": {},
   "outputs": [],
   "source": []
  }
 ],
 "metadata": {
  "kernelspec": {
   "display_name": "Python 3 (ipykernel)",
   "language": "python",
   "name": "python3"
  },
  "language_info": {
   "codemirror_mode": {
    "name": "ipython",
    "version": 3
   },
   "file_extension": ".py",
   "mimetype": "text/x-python",
   "name": "python",
   "nbconvert_exporter": "python",
   "pygments_lexer": "ipython3",
   "version": "3.8.6"
  }
 },
 "nbformat": 4,
 "nbformat_minor": 5
}
