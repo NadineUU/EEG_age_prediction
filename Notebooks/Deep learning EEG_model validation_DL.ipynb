{
 "cells": [
  {
   "cell_type": "markdown",
   "metadata": {},
   "source": [
    "# Deep learning model validation "
   ]
  },
  {
   "cell_type": "markdown",
   "metadata": {},
   "source": [
    "This notebook can be used to validate a deep learning model. At the top the data and model can be loaded into memory, and in the following cells functions for validation can be found."
   ]
  },
  {
   "cell_type": "code",
   "execution_count": 1,
   "metadata": {},
   "outputs": [],
   "source": [
    "import sys, os, fnmatch, csv\n",
    "import numpy as np\n",
    "import pandas as pd\n",
    "import matplotlib.pyplot as plt\n",
    "\n",
    "sys.path.insert(0, os.path.dirname(os.getcwd()))\n",
    "\n",
    "from config import PATH_RAW_DATA, PATH_DATA_PROCESSED_DL, PATH_MODELS"
   ]
  },
  {
   "cell_type": "markdown",
   "metadata": {},
   "source": [
    "# 1. Preparing data, model, and helper functions"
   ]
  },
  {
   "cell_type": "markdown",
   "metadata": {},
   "source": [
    "## Configuration variables"
   ]
  },
  {
   "cell_type": "code",
   "execution_count": 2,
   "metadata": {},
   "outputs": [],
   "source": [
    "N_AVERAGE = 30\n",
    "MODEL_NAME = 'Fully_connected_regressor_02.hdf5'"
   ]
  },
  {
   "cell_type": "markdown",
   "metadata": {},
   "source": [
    "## Load data"
   ]
  },
  {
   "cell_type": "code",
   "execution_count": 3,
   "metadata": {},
   "outputs": [],
   "source": [
    "from sklearn.model_selection import train_test_split\n",
    "\n",
    "# Step 1: Get all the files in the output folder\n",
    "file_names = os.listdir(PATH_DATA_PROCESSED_DL)\n",
    "\n",
    "# Step 2: Get the full paths of the files (without extensions)\n",
    "files = [os.path.splitext(os.path.join(PATH_DATA_PROCESSED_DL, file_name))[0] for file_name in fnmatch.filter(file_names, \"*.zarr\")]\n",
    "\n",
    "# Step 3: Load all the metadata\n",
    "frames = []\n",
    "\n",
    "for idx, feature_file in enumerate(files):\n",
    "    df_metadata = pd.read_csv(feature_file.replace(\"processed_raw_\", \"processed_metadata_\") + \".csv\")\n",
    "    frames.append(df_metadata)\n",
    "\n",
    "df_metadata = pd.concat(frames) \n",
    "\n",
    "# Step 4: Add missing age information based on the age group the subject is in\n",
    "df_metadata['age_months'].fillna(df_metadata['age_group'], inplace=True)\n",
    "df_metadata['age_days'].fillna(df_metadata['age_group']*30, inplace=True)\n",
    "df_metadata['age_years'].fillna(df_metadata['age_group']/12, inplace=True)\n",
    "\n",
    "# Step 5: List all the unique subject IDs\n",
    "subject_ids = list(set(df_metadata[\"code\"].tolist()))"
   ]
  },
  {
   "cell_type": "code",
   "execution_count": 4,
   "metadata": {},
   "outputs": [],
   "source": [
    "from sklearn.model_selection import train_test_split\n",
    "\n",
    "IDs_train, IDs_temp = train_test_split(subject_ids, test_size=0.3, random_state=42)\n",
    "IDs_test, IDs_val = train_test_split(IDs_temp, test_size=0.5, random_state=42)"
   ]
  },
  {
   "cell_type": "code",
   "execution_count": 5,
   "metadata": {},
   "outputs": [],
   "source": [
    "from dataset_generator import DataGenerator\n",
    "\n",
    "train_generator = DataGenerator(list_IDs = IDs_train,\n",
    "                                BASE_PATH = PATH_DATA_PROCESSED_DL,\n",
    "                                metadata = df_metadata,\n",
    "                                n_average = N_AVERAGE,\n",
    "                                batch_size = 10,\n",
    "                                iter_per_epoch = 30,\n",
    "                                n_timepoints = 501, \n",
    "                                n_channels=30, \n",
    "                                shuffle=True)\n",
    "\n",
    "train_generator_noise = DataGenerator(list_IDs = IDs_train,\n",
    "                                      BASE_PATH = PATH_DATA_PROCESSED_DL,\n",
    "                                      metadata = df_metadata,\n",
    "                                      n_average = N_AVERAGE,\n",
    "                                      batch_size = 10,\n",
    "                                      gaussian_noise=0.01,\n",
    "                                      iter_per_epoch = 30,\n",
    "                                      n_timepoints = 501, \n",
    "                                      n_channels=30, \n",
    "                                      shuffle=True)\n",
    "\n",
    "val_generator = DataGenerator(list_IDs = IDs_val,\n",
    "                              BASE_PATH = PATH_DATA_PROCESSED_DL,\n",
    "                              metadata = df_metadata,\n",
    "                              n_average = N_AVERAGE,\n",
    "                              batch_size = 10,\n",
    "                              iter_per_epoch = 100,\n",
    "                              n_timepoints = 501,\n",
    "                              n_channels=30,\n",
    "                              shuffle=True)\n",
    "\n",
    "test_generator = DataGenerator(list_IDs = IDs_test,\n",
    "                               BASE_PATH = PATH_DATA_PROCESSED_DL,\n",
    "                               metadata = df_metadata,\n",
    "                               n_average = N_AVERAGE,\n",
    "                               batch_size = 10,\n",
    "                               iter_per_epoch = 100,\n",
    "                               n_timepoints = 501,\n",
    "                               n_channels=30,\n",
    "                               shuffle=True)"
   ]
  },
  {
   "cell_type": "code",
   "execution_count": 6,
   "metadata": {},
   "outputs": [
    {
     "data": {
      "text/html": [
       "<div>\n",
       "<style scoped>\n",
       "    .dataframe tbody tr th:only-of-type {\n",
       "        vertical-align: middle;\n",
       "    }\n",
       "\n",
       "    .dataframe tbody tr th {\n",
       "        vertical-align: top;\n",
       "    }\n",
       "\n",
       "    .dataframe thead th {\n",
       "        text-align: right;\n",
       "    }\n",
       "</style>\n",
       "<table border=\"1\" class=\"dataframe\">\n",
       "  <thead>\n",
       "    <tr style=\"text-align: right;\">\n",
       "      <th></th>\n",
       "      <th>code</th>\n",
       "      <th>cnt_path</th>\n",
       "      <th>cnt_file</th>\n",
       "      <th>age_group</th>\n",
       "      <th>age_days</th>\n",
       "      <th>age_months</th>\n",
       "      <th>age_years</th>\n",
       "    </tr>\n",
       "  </thead>\n",
       "  <tbody>\n",
       "    <tr>\n",
       "      <th>0</th>\n",
       "      <td>23</td>\n",
       "      <td>/Volumes/Seagate Expansion Drive/ePodium/Data/...</td>\n",
       "      <td>023_35_mc_mmn36</td>\n",
       "      <td>35</td>\n",
       "      <td>1052.0</td>\n",
       "      <td>35.066667</td>\n",
       "      <td>2.922222</td>\n",
       "    </tr>\n",
       "    <tr>\n",
       "      <th>0</th>\n",
       "      <td>337</td>\n",
       "      <td>/Volumes/Seagate Expansion Drive/ePodium/Data/...</td>\n",
       "      <td>337_23_jc_mmn_36_wk</td>\n",
       "      <td>23</td>\n",
       "      <td>692.0</td>\n",
       "      <td>23.066667</td>\n",
       "      <td>1.922222</td>\n",
       "    </tr>\n",
       "    <tr>\n",
       "      <th>0</th>\n",
       "      <td>456</td>\n",
       "      <td>/Volumes/Seagate Expansion Drive/ePodium/Data/...</td>\n",
       "      <td>456_23_md_mmn36_wk</td>\n",
       "      <td>23</td>\n",
       "      <td>691.0</td>\n",
       "      <td>23.033333</td>\n",
       "      <td>1.919444</td>\n",
       "    </tr>\n",
       "    <tr>\n",
       "      <th>0</th>\n",
       "      <td>328</td>\n",
       "      <td>/Volumes/Seagate Expansion Drive/ePodium/Data/...</td>\n",
       "      <td>328_23_jc_mmn36_wk</td>\n",
       "      <td>23</td>\n",
       "      <td>699.0</td>\n",
       "      <td>23.300000</td>\n",
       "      <td>1.941667</td>\n",
       "    </tr>\n",
       "    <tr>\n",
       "      <th>0</th>\n",
       "      <td>314</td>\n",
       "      <td>/Volumes/Seagate Expansion Drive/ePodium/Data/...</td>\n",
       "      <td>314_29_mmn_36_wk</td>\n",
       "      <td>29</td>\n",
       "      <td>877.0</td>\n",
       "      <td>29.233333</td>\n",
       "      <td>2.436111</td>\n",
       "    </tr>\n",
       "  </tbody>\n",
       "</table>\n",
       "</div>"
      ],
      "text/plain": [
       "   code                                           cnt_path  \\\n",
       "0    23  /Volumes/Seagate Expansion Drive/ePodium/Data/...   \n",
       "0   337  /Volumes/Seagate Expansion Drive/ePodium/Data/...   \n",
       "0   456  /Volumes/Seagate Expansion Drive/ePodium/Data/...   \n",
       "0   328  /Volumes/Seagate Expansion Drive/ePodium/Data/...   \n",
       "0   314  /Volumes/Seagate Expansion Drive/ePodium/Data/...   \n",
       "\n",
       "              cnt_file  age_group  age_days  age_months  age_years  \n",
       "0      023_35_mc_mmn36         35    1052.0   35.066667   2.922222  \n",
       "0  337_23_jc_mmn_36_wk         23     692.0   23.066667   1.922222  \n",
       "0   456_23_md_mmn36_wk         23     691.0   23.033333   1.919444  \n",
       "0   328_23_jc_mmn36_wk         23     699.0   23.300000   1.941667  \n",
       "0     314_29_mmn_36_wk         29     877.0   29.233333   2.436111  "
      ]
     },
     "execution_count": 6,
     "metadata": {},
     "output_type": "execute_result"
    }
   ],
   "source": [
    "df_metadata.head()"
   ]
  },
  {
   "cell_type": "markdown",
   "metadata": {},
   "source": [
    "## Load model"
   ]
  },
  {
   "cell_type": "code",
   "execution_count": 7,
   "metadata": {},
   "outputs": [],
   "source": [
    "import tensorflow as tf\n",
    "\n",
    "model_path = os.path.join(PATH_MODELS, MODEL_NAME)\n",
    "loaded_model = tf.keras.models.load_model(model_path)"
   ]
  },
  {
   "cell_type": "markdown",
   "metadata": {},
   "source": [
    "## Testing phase helper functions: three approaches"
   ]
  },
  {
   "cell_type": "markdown",
   "metadata": {},
   "source": [
    "### 1. Predict age for all epochs separately, take median"
   ]
  },
  {
   "cell_type": "code",
   "execution_count": 9,
   "metadata": {},
   "outputs": [],
   "source": [
    "from scipy import stats\n",
    "\n",
    "def test_model_separate_epochs(model, ID_test):\n",
    "    \"\"\"Takes in the IDs of the test subjects, predicts the ages on individual epochs per subject per age group. \n",
    "        Final prediction for the subject in an age group is the median of all predictions.\"\"\"\n",
    "    \n",
    "    y_true = []\n",
    "    y_pred = []\n",
    "    pred_IDs = []\n",
    "    \n",
    "    # Step 1: Iterate over subjects\n",
    "    for ID in IDs_test:\n",
    "        \n",
    "        # Step 2: Find all files of a subject\n",
    "        df_temp = df_metadata[df_metadata['code'] == ID]\n",
    "    \n",
    "        # Step 3: Find all the age groups the subject was found in\n",
    "        ages_subject = sorted(list(set(df_temp['age_group'].tolist())))\n",
    "        \n",
    "        # Step 4: Loop over all the age groups the subject is in\n",
    "        for age_group in ages_subject:            \n",
    "            X_data = np.zeros((0, 30, 501))\n",
    "            \n",
    "            # Step 5: Concatenate data of files in the same age group\n",
    "            for i, metadata_file in df_temp[df_temp['age_group'] == age_group].iterrows():\n",
    "                filename = os.path.join(PATH_DATA_PROCESSED_DL, 'processed_raw_' + metadata_file['cnt_file'] + '.zarr')\n",
    "                data_signal = zarr.open(os.path.join(filename), mode='r')\n",
    "                                \n",
    "                X_data = np.concatenate((X_data, data_signal), axis=0)\n",
    "                \n",
    "            X_data = np.swapaxes(X_data, 1, 2)\n",
    "                                \n",
    "            # Step 6: Predict age of all the epochs, take median\n",
    "            predicted_ages = model.predict(X_data).flatten()\n",
    "            \n",
    "            predicted_age = np.median(predicted_ages)\n",
    "            true_age = df_temp[df_temp['age_group'] == age_group]['age_months'].values[0]\n",
    "            \n",
    "            y_pred.append(predicted_age)\n",
    "            y_true.append(true_age)\n",
    "            pred_IDs.append(ID)\n",
    "\n",
    "    return y_true, y_pred, pred_IDs"
   ]
  },
  {
   "cell_type": "markdown",
   "metadata": {},
   "source": [
    "### 2. Divide all epochs in non-overlapping subsets, average and predict, take median"
   ]
  },
  {
   "cell_type": "code",
   "execution_count": 10,
   "metadata": {},
   "outputs": [],
   "source": [
    "def chunks(lst, n):\n",
    "    \"\"\"Yield successive n-sized chunks from list.\"\"\"\n",
    "    for i in range(0, len(lst), n):\n",
    "        yield lst[i:i + n]\n",
    "\n",
    "def test_model_epochs_subsets(model, ID_test):\n",
    "    \"\"\"Takes in the IDs of the test subjects, divides all epochs in subsets of 30 and averages. \n",
    "        Final prediction for the subject is the median of all predictions on these subsets.\"\"\"\n",
    "    \n",
    "    y_true = []\n",
    "    y_pred = []\n",
    "    pred_IDs = []\n",
    "    \n",
    "    # Step 1: Iterate over subjects\n",
    "    for ID in IDs_test:\n",
    "        \n",
    "        # Step 2: Find all files of a subject\n",
    "        df_temp = df_metadata[df_metadata['code'] == ID]\n",
    "    \n",
    "        # Step 3: Find all the age groups the subject was found in\n",
    "        ages_subject = sorted(list(set(df_temp['age_group'].tolist())))\n",
    "        \n",
    "        # Step 4: Loop over all the age groups the subject is in\n",
    "        for age_group in ages_subject:            \n",
    "            X_data = np.zeros((0, 30, 501))\n",
    "            X_averaged_subsets = np.zeros((0, 30, 501))\n",
    "            \n",
    "            # Step 5: Concatenate data of files in the same age group\n",
    "            for i, metadata_file in df_temp[df_temp['age_group'] == age_group].iterrows():\n",
    "                filename = os.path.join(PATH_DATA_PROCESSED_DL, 'processed_raw_' + metadata_file['cnt_file'] + '.zarr')\n",
    "                data_signal = zarr.open(os.path.join(filename), mode='r')\n",
    "                                \n",
    "                X_data = np.concatenate((X_data, data_signal), axis=0)\n",
    "            \n",
    "            np.random.shuffle(X_data) # Shuffle data for randomly picking epochs without replacement\n",
    "            \n",
    "            for subset in chunks(X_data, 30):\n",
    "                X_data_mean = np.mean(subset[:,:,:], axis=0) # Average all epochs in subset\n",
    "                X_data_mean = np.expand_dims(X_data_mean, axis=0)\n",
    "                X_averaged_subsets = np.concatenate((X_averaged_subsets, X_data_mean), axis=0)\n",
    "            \n",
    "            X = np.swapaxes(X_averaged_subsets, 1, 2)\n",
    "                                            \n",
    "            # Step 6: Predict age of the averaged epochs\n",
    "            predicted_ages = model.predict(X).flatten()\n",
    "            predicted_age = np.median(predicted_ages)\n",
    "            \n",
    "            true_age = df_temp[df_temp['age_group'] == age_group]['age_months'].values[0]\n",
    "            \n",
    "            y_pred.append(predicted_age)\n",
    "            y_true.append(true_age)\n",
    "            pred_IDs.append(ID)\n",
    "\n",
    "    return y_true, y_pred, pred_IDs"
   ]
  },
  {
   "cell_type": "markdown",
   "metadata": {},
   "source": [
    "### 3. Average all epochs and predict"
   ]
  },
  {
   "cell_type": "code",
   "execution_count": 11,
   "metadata": {},
   "outputs": [],
   "source": [
    "def test_model_averaged_epochs(model, ID_test):\n",
    "    \"\"\"Takes in the IDs of the test subjects, averages epochs per subject per age group. \n",
    "        Final prediction for the subject in an age group is on this averaged epoch.\"\"\"\n",
    "    \n",
    "    y_true = []\n",
    "    y_pred = []\n",
    "    pred_IDs = []\n",
    "    \n",
    "    # Step 1: Iterate over subjects\n",
    "    for ID in IDs_test:\n",
    "        \n",
    "        # Step 2: Find all files of a subject\n",
    "        df_temp = df_metadata[df_metadata['code'] == ID]\n",
    "    \n",
    "        # Step 3: Find all the age groups the subject was found in\n",
    "        ages_subject = sorted(list(set(df_temp['age_group'].tolist())))\n",
    "        \n",
    "        # Step 4: Loop over all the age groups the subject is in\n",
    "        for age_group in ages_subject:            \n",
    "            X_data = np.zeros((0, 30, 501))\n",
    "            \n",
    "            # Step 5: Concatenate data of files in the same age group\n",
    "            for i, metadata_file in df_temp[df_temp['age_group'] == age_group].iterrows():\n",
    "                filename = os.path.join(PATH_DATA_PROCESSED_DL, 'processed_raw_' + metadata_file['cnt_file'] + '.zarr')\n",
    "                data_signal = zarr.open(os.path.join(filename), mode='r')\n",
    "                                \n",
    "                X_data = np.concatenate((X_data, data_signal), axis=0)\n",
    "            \n",
    "            X_data_mean = np.mean(X_data[:,:,:], axis=0) # Average all epochs of a subject at a specific age\n",
    "            X = np.expand_dims(X_data_mean, axis=0)            \n",
    "            X = np.swapaxes(X, 1, 2)\n",
    "                                            \n",
    "            # Step 6: Predict age of the averaged epochs\n",
    "            predicted_age = model.predict(X).flatten()[0]\n",
    "            true_age = df_temp[df_temp['age_group'] == age_group]['age_months'].values[0]\n",
    "            \n",
    "            y_pred.append(predicted_age)\n",
    "            y_true.append(true_age)\n",
    "            pred_IDs.append(ID)\n",
    "\n",
    "    return y_true, y_pred, pred_IDs"
   ]
  },
  {
   "cell_type": "markdown",
   "metadata": {},
   "source": [
    "## Error stability: two approaches"
   ]
  },
  {
   "cell_type": "markdown",
   "metadata": {},
   "source": [
    "Definition of error stability (Vandenbosch et al., 2018): \n",
    "\n",
    "_\"Stability was assessed as the correlation between the prediction errors (estimated minus actual age) of subjects at baseline with their own prediction error at follow-up.\"_\n",
    "\n",
    "\n",
    "I think this means: Take the prediction error (of a subject) at time 1 and compare it to the prediction error at time 2, take the prediction error at time 2 and compare it to time 3, take the prediction error at time 3 and compare it to time 4. You can then make two lists of errors: TIME_N and TIME_N+1 and look at the correlation between those two. \n",
    "\n",
    "A stable error then would mean a positive correlation, because if error is low at time n, you expect it to be low at time n+1 as well. "
   ]
  },
  {
   "cell_type": "markdown",
   "metadata": {},
   "source": [
    "### 1. Average all epochs and predict, calculate stability"
   ]
  },
  {
   "cell_type": "code",
   "execution_count": 17,
   "metadata": {},
   "outputs": [],
   "source": [
    "import zarr\n",
    "from scipy.stats import pearsonr\n",
    "\n",
    "def error_stability_averaged_epochs(model, IDs_test):\n",
    "    \"\"\"Takes in the IDs of the test subjects, calculates the error stability (correlation) on average of all epochs\"\"\"\n",
    "    \n",
    "    errors_time_N = []\n",
    "    errors_time_N1 = []\n",
    "    \n",
    "    # Step 1: Iterate over subjects\n",
    "    for ID in IDs_test:\n",
    "        \n",
    "        # Step 2: Find all files of a subject\n",
    "        df_temp = df_metadata[df_metadata['code'] == ID]\n",
    "    \n",
    "        # Step 3: Find all the age groups the subject was found in\n",
    "        ages_subject = sorted(list(set(df_temp['age_group'].tolist())))\n",
    "        \n",
    "        if len(ages_subject) == 1:\n",
    "            continue\n",
    "                    \n",
    "        # Step 4: Loop over all the ages of a subject\n",
    "        prev_prediction_error = None\n",
    "        curr_prediction_error = None\n",
    "                       \n",
    "        for age_group in ages_subject:\n",
    "            prev_prediction_error = curr_prediction_error\n",
    "            \n",
    "            X_data = np.zeros((0, 30, 501))\n",
    "            \n",
    "            # Step 5: Concatenate data of files in the same age group before averaging all epochs\n",
    "            for i, metadata_file in df_temp[df_temp['age_group'] == age_group].iterrows():\n",
    "                filename = os.path.join(PATH_DATA_PROCESSED_DL, 'processed_raw_' + metadata_file['cnt_file'] + '.zarr')\n",
    "                data_signal = zarr.open(os.path.join(filename), mode='r')\n",
    "                                \n",
    "                X_data = np.concatenate((X_data, data_signal), axis=0) \n",
    "            \n",
    "            X_data_mean = np.mean(X_data[:,:,:], axis=0) # Average all epochs of a subject at a specific age\n",
    "            X = np.expand_dims(X_data_mean, axis=0)            \n",
    "            X = np.swapaxes(X, 1, 2)\n",
    "                                    \n",
    "            actual_age = df_temp[df_temp['age_group'] == age_group]['age_months'].values[0]\n",
    "            curr_prediction_error = model.predict(X).flatten()[0] - actual_age\n",
    "                        \n",
    "            # Step 6: If there are two values to compare, i.e. time N and time N+1, add them to the lists\n",
    "            if prev_prediction_error and curr_prediction_error:\n",
    "                \n",
    "                errors_time_N.append(prev_prediction_error)\n",
    "                errors_time_N1.append(curr_prediction_error)\n",
    "                \n",
    "    # Step 7: Look at correlation between prediction error and follow-up\n",
    "    corr, _ = pearsonr(errors_time_N, errors_time_N1)\n",
    "    print(f\"Pearsons correlation: {corr:.3f}\")\n",
    "    \n",
    "    return corr, errors_time_N, errors_time_N1"
   ]
  },
  {
   "cell_type": "markdown",
   "metadata": {},
   "source": [
    "### 2.  Divide all epochs in non-overlapping subsets, average and predict, take median, calculate stability"
   ]
  },
  {
   "cell_type": "code",
   "execution_count": 18,
   "metadata": {},
   "outputs": [],
   "source": [
    "import zarr\n",
    "from scipy.stats import pearsonr, spearmanr\n",
    "\n",
    "def chunks(lst, n):\n",
    "    \"\"\"Yield successive n-sized chunks from list.\"\"\"\n",
    "    for i in range(0, len(lst), n):\n",
    "        yield lst[i:i + n]\n",
    "\n",
    "def error_stability_epochs_subsets(model, ID_test):\n",
    "    \"\"\"Takes in the IDs of the test subjects, divides all epochs in subsets of 30 and averages. \n",
    "        Final prediction for the subject is the median of all predictions on these subsets. \n",
    "        Error stability is calculated based on these predictions. \"\"\"\n",
    "    \n",
    "    errors_time_N = []\n",
    "    errors_time_N1 = []\n",
    "    \n",
    "    # Step 1: Iterate over subjects\n",
    "    for ID in IDs_test:\n",
    "        \n",
    "        # Step 2: Find all files of a subject\n",
    "        df_temp = df_metadata[df_metadata['code'] == ID]\n",
    "    \n",
    "        # Step 3: Find all the age groups the subject was found in\n",
    "        ages_subject = sorted(list(set(df_temp['age_group'].tolist())))\n",
    "        \n",
    "        if len(ages_subject) == 1:\n",
    "            continue\n",
    "        \n",
    "        prev_prediction_error = None\n",
    "        curr_prediction_error = None\n",
    "        \n",
    "        # Step 4: Loop over all the age groups the subject is in\n",
    "        for age_group in ages_subject:\n",
    "            \n",
    "            prev_prediction_error = curr_prediction_error\n",
    "            \n",
    "            X_data = np.zeros((0, 30, 501))\n",
    "            X_averaged_subsets = np.zeros((0, 30, 501))\n",
    "            \n",
    "            # Step 5: Concatenate data of files in the same age group\n",
    "            for i, metadata_file in df_temp[df_temp['age_group'] == age_group].iterrows():\n",
    "                filename = os.path.join(PATH_DATA_PROCESSED_DL, 'processed_raw_' + metadata_file['cnt_file'] + '.zarr')\n",
    "                data_signal = zarr.open(os.path.join(filename), mode='r')\n",
    "                                \n",
    "                X_data = np.concatenate((X_data, data_signal), axis=0)\n",
    "            \n",
    "            np.random.shuffle(X_data) # Shuffle data for randomly picking epochs without replacement\n",
    "            \n",
    "            for subset in chunks(X_data, 30):\n",
    "                X_data_mean = np.mean(subset[:,:,:], axis=0) # Average all epochs in subset\n",
    "                X_data_mean = np.expand_dims(X_data_mean, axis=0)\n",
    "                X_averaged_subsets = np.concatenate((X_averaged_subsets, X_data_mean), axis=0)\n",
    "            \n",
    "            X = np.swapaxes(X_averaged_subsets, 1, 2)\n",
    "                                            \n",
    "            # Step 6: Predict age of the averaged epochs\n",
    "            predicted_ages = model.predict(X).flatten()\n",
    "            predicted_age = np.median(predicted_ages)\n",
    "            \n",
    "            actual_age = df_temp[df_temp['age_group'] == age_group]['age_months'].values[0]\n",
    "            curr_prediction_error = predicted_age - actual_age\n",
    "                        \n",
    "            # Step 7: If there are two values to compare, i.e. time N and time N+1, add them to the lists\n",
    "            if prev_prediction_error and curr_prediction_error:\n",
    "                errors_time_N.append(prev_prediction_error)\n",
    "                errors_time_N1.append(curr_prediction_error)     \n",
    "        \n",
    "    # Step 8: Look at correlation between prediction error and follow-up\n",
    "    corr, _ = pearsonr(errors_time_N, errors_time_N1)\n",
    "    spearmancorr, _ = spearmanr(errors_time_N, errors_time_N1)\n",
    "    print(f\"Pearsons correlation: {corr:.3f}\")\n",
    "    print(f\"Spearman correlation: {spearmancorr:.3f}\")\n",
    "    \n",
    "    return corr, spearmancorr, errors_time_N, errors_time_N1"
   ]
  },
  {
   "cell_type": "markdown",
   "metadata": {},
   "source": [
    "# 2. Model validation"
   ]
  },
  {
   "cell_type": "code",
   "execution_count": 19,
   "metadata": {},
   "outputs": [],
   "source": [
    "# from sklearn.metrics import mean_absolute_error\n",
    "\n",
    "# y_true, y_pred = test_model_separate_epochs(loaded_model, IDs_test)\n",
    "# mean_absolute_error(y_true, y_pred)"
   ]
  },
  {
   "cell_type": "code",
   "execution_count": 23,
   "metadata": {},
   "outputs": [
    {
     "data": {
      "text/plain": [
       "5.715488900186244"
      ]
     },
     "execution_count": 23,
     "metadata": {},
     "output_type": "execute_result"
    }
   ],
   "source": [
    "from sklearn.metrics import mean_absolute_error\n",
    "\n",
    "y_true, y_pred, pred_IDs = test_model_epochs_subsets(loaded_model, IDs_test)\n",
    "mean_absolute_error(y_true, y_pred)"
   ]
  },
  {
   "cell_type": "code",
   "execution_count": 20,
   "metadata": {},
   "outputs": [],
   "source": [
    "# from sklearn.metrics import mean_absolute_error\n",
    "\n",
    "# y_true, y_pred = test_model_averaged_epochs(loaded_model, IDs_test)\n",
    "# mean_absolute_error(y_true, y_pred)"
   ]
  },
  {
   "cell_type": "code",
   "execution_count": 21,
   "metadata": {},
   "outputs": [
    {
     "name": "stdout",
     "output_type": "stream",
     "text": [
      "Pearsons correlation: 0.660\n"
     ]
    }
   ],
   "source": [
    "corr, spearmancorr, errors_time_N, errors_time_N1 = error_stability_epochs_subsets(loaded_model, IDs_test)"
   ]
  },
  {
   "cell_type": "code",
   "execution_count": null,
   "metadata": {},
   "outputs": [],
   "source": [
    "from sklearn.metrics import r2_score\n",
    "\n",
    "rsquared = r2_score(y_true, y_pred)\n",
    "print(f\"R-squared: {rsquared:.3f}\")"
   ]
  },
  {
   "cell_type": "code",
   "execution_count": 22,
   "metadata": {},
   "outputs": [],
   "source": [
    "# error_stability_averaged_epochs(loaded_model, IDs_test)"
   ]
  },
  {
   "cell_type": "markdown",
   "metadata": {},
   "source": [
    "# 3. Visualization"
   ]
  },
  {
   "cell_type": "code",
   "execution_count": 24,
   "metadata": {},
   "outputs": [],
   "source": [
    "import seaborn as sns\n",
    "import matplotlib.pyplot as plt\n",
    "\n",
    "sns.set_theme(style=\"whitegrid\")"
   ]
  },
  {
   "cell_type": "code",
   "execution_count": 48,
   "metadata": {},
   "outputs": [
    {
     "data": {
      "image/png": "[encoded data removed]",
      "text/plain": [
       "<Figure size 576x576 with 1 Axes>"
      ]
     },
     "metadata": {
      "needs_background": "light"
     },
     "output_type": "display_data"
    }
   ],
   "source": [
    "%matplotlib inline\n",
    "\n",
    "fig, ax = plt.subplots(figsize=(8,8))\n",
    "sns.regplot(x=y_true, y=y_pred)\n",
    "\n",
    "ax.set_xlim(4, 48)\n",
    "ax.set_ylim(4, 48)\n",
    "\n",
    "ax.set_xticks(np.arange(5, 48, 2.0))\n",
    "ax.set_yticks(np.arange(5, 48, 2.0))\n",
    "\n",
    "ax.plot(ax.get_xlim(), ax.get_ylim(), ls=\"--\", c=(1,0.2,0,0.3))\n",
    "ax.grid()\n",
    "ax.set_axisbelow(True)\n",
    "\n",
    "ax.set_xlabel('Chronological age (months)')\n",
    "ax.set_ylabel('EEG-based age (months)')\n",
    "ax.set_title('Chronological age vs. predicted EEG-based age')\n",
    "\n",
    "plt.grid()"
   ]
  },
  {
   "cell_type": "code",
   "execution_count": 49,
   "metadata": {},
   "outputs": [
    {
     "data": {
      "image/png": "[encoded data removed]",
      "text/plain": [
       "<Figure size 576x576 with 1 Axes>"
      ]
     },
     "metadata": {
      "needs_background": "light"
     },
     "output_type": "display_data"
    }
   ],
   "source": [
    "%matplotlib inline\n",
    "\n",
    "fig, ax = plt.subplots(figsize=(8,8))\n",
    "sns.regplot(x=errors_time_N, y=errors_time_N1)\n",
    "\n",
    "ax.plot(ax.get_xlim(), ax.get_ylim(), ls=\"--\", c=(1,0.2,0,0.3))\n",
    "ax.grid()\n",
    "ax.set_axisbelow(True)\n",
    "\n",
    "ax.set_xlabel('Prediction error at time N')\n",
    "ax.set_ylabel('Prediction error at time N+1')\n",
    "ax.set_title('Prediction error vs. prediction error at follow-up')\n",
    "\n",
    "plt.grid()"
   ]
  },
  {
   "cell_type": "markdown",
   "metadata": {},
   "source": [
    "# 4. Model certainty / Monte Carlo Dropout"
   ]
  },
  {
   "cell_type": "code",
   "execution_count": 83,
   "metadata": {},
   "outputs": [],
   "source": [
    "import tensorflow as tf\n",
    "from tensorflow import keras\n",
    "from tensorflow.keras import layers, Input, Sequential\n",
    "from tensorflow.keras.layers import Bidirectional, LSTM, Dropout, BatchNormalization, Dense, Conv1D, LeakyReLU, AveragePooling1D, Flatten, Reshape, MaxPooling1D\n",
    "from tensorflow.keras.optimizers import Adam, Adadelta, SGD\n",
    "from tensorflow.keras.callbacks import ModelCheckpoint, EarlyStopping, ReduceLROnPlateau\n",
    "from tensorflow.keras.metrics import RootMeanSquaredError, MeanAbsoluteError\n",
    "\n",
    "n_timesteps = 501\n",
    "n_features = 30 \n",
    "n_outputs = 1\n",
    "\n",
    "input_shape = (n_timesteps, n_features)\n",
    "\n",
    "def fully_connected_model():\n",
    "    \"\"\" Returns the fully connected model from Ismail Fawaz et al. (2019). \"\"\"\n",
    "\n",
    "    input_layer = keras.layers.Input(input_shape)\n",
    "\n",
    "    input_layer_flattened = keras.layers.Flatten()(input_layer)\n",
    "\n",
    "    layer_1 = keras.layers.Dropout(0.1)(input_layer_flattened, training=True)\n",
    "    layer_1 = keras.layers.Dense(500, activation='relu')(layer_1)\n",
    "\n",
    "    layer_2 = keras.layers.Dropout(0.2)(layer_1, training=True)\n",
    "    layer_2 = keras.layers.Dense(500, activation='relu')(layer_2)\n",
    "\n",
    "    layer_3 = keras.layers.Dropout(0.2)(layer_2, training=True)\n",
    "    layer_3 = keras.layers.Dense(500, activation='relu')(layer_3)\n",
    "\n",
    "    output_layer = keras.layers.Dropout(0.3)(layer_3, training=True)\n",
    "    output_layer = keras.layers.Dense(1)(output_layer)\n",
    "\n",
    "    model = keras.models.Model(inputs=input_layer, outputs=output_layer)\n",
    "\n",
    "    return model"
   ]
  },
  {
   "cell_type": "code",
   "execution_count": 89,
   "metadata": {},
   "outputs": [],
   "source": [
    "from scipy.stats import bayes_mvs\n",
    "\n",
    "def chunks(lst, n):\n",
    "    \"\"\"Yield successive n-sized chunks from list.\"\"\"\n",
    "    for i in range(0, len(lst), n):\n",
    "        yield lst[i:i + n]\n",
    "\n",
    "def test_model_epochs_subsets(model, ID_test):\n",
    "    \"\"\"Takes in the IDs of the test subjects, divides all epochs in subsets of 30 and averages. \n",
    "        Final prediction for the subject is the median of all predictions on these subsets.\"\"\"\n",
    "        \n",
    "    y_true = []\n",
    "    y_pred = []\n",
    "    \n",
    "    # Step 1: Iterate over subjects\n",
    "    for ID in IDs_test:\n",
    "        \n",
    "        # Step 2: Find all files of a subject\n",
    "        df_temp = df_metadata[df_metadata['code'] == ID]\n",
    "    \n",
    "        # Step 3: Find all the age groups the subject was found in\n",
    "        ages_subject = sorted(list(set(df_temp['age_group'].tolist())))\n",
    "        \n",
    "        # Step 4: Loop over all the age groups the subject is in\n",
    "        for age_group in ages_subject:            \n",
    "            X_data = np.zeros((0, 30, 501))\n",
    "            X_averaged_subsets = np.zeros((0, 30, 501))\n",
    "            \n",
    "            # Step 5: Concatenate data of files in the same age group\n",
    "            for i, metadata_file in df_temp[df_temp['age_group'] == age_group].iterrows():\n",
    "                filename = os.path.join(PATH_DATA_PROCESSED_DL, 'processed_raw_' + metadata_file['cnt_file'] + '.zarr')\n",
    "                data_signal = zarr.open(os.path.join(filename), mode='r')\n",
    "                                \n",
    "                X_data = np.concatenate((X_data, data_signal), axis=0)\n",
    "            \n",
    "            np.random.shuffle(X_data) # Shuffle data for randomly picking epochs without replacement\n",
    "            \n",
    "            for subset in chunks(X_data, 30):\n",
    "                X_data_mean = np.mean(subset[:,:,:], axis=0) # Average all epochs in subset\n",
    "                X_data_mean = np.expand_dims(X_data_mean, axis=0)\n",
    "                X_averaged_subsets = np.concatenate((X_averaged_subsets, X_data_mean), axis=0)\n",
    "            \n",
    "            X = np.swapaxes(X_averaged_subsets, 1, 2)\n",
    "                                            \n",
    "            # Monte Carlo Dropout: \n",
    "            \n",
    "            predicted_ages_MCdropout = []\n",
    "            \n",
    "            for i in range(50):                \n",
    "                # Step 6: Predict age of the averaged epochs\n",
    "                predicted_ages = model.predict(X).flatten()\n",
    "                predicted_age = np.median(predicted_ages)\n",
    "                predicted_ages_MCdropout.append(predicted_age)\n",
    "            \n",
    "#             print(predicted_ages_MCdropout)\n",
    "#             res_mean, res_var, res_std = bayes_mvs(predicted_ages_MCdropout, alpha=0.95)\n",
    "#             print(f\"MEAN (predicted age): {res_mean.statistic}\")\n",
    "            \n",
    "            true_age = df_temp[df_temp['age_group'] == age_group]['age_months'].values[0]\n",
    "            \n",
    "            y_pred.append(np.mean(predicted_ages_MCdropout))\n",
    "#             y_pred.append(res_mean.statistic)\n",
    "            y_true.append(true_age)\n",
    "\n",
    "    return y_true, y_pred"
   ]
  },
  {
   "cell_type": "code",
   "execution_count": 90,
   "metadata": {},
   "outputs": [
    {
     "data": {
      "text/plain": [
       "5.474997943226254"
      ]
     },
     "execution_count": 90,
     "metadata": {},
     "output_type": "execute_result"
    }
   ],
   "source": [
    "from sklearn.metrics import mean_absolute_error\n",
    "\n",
    "model_b = fully_connected_model()\n",
    "model_b.load_weights(os.path.join(PATH_MODELS, MODEL_NAME))\n",
    "\n",
    "y_true, y_pred = test_model_epochs_subsets(model_b, IDs_test)\n",
    "mean_absolute_error(y_true, y_pred)"
   ]
  },
  {
   "cell_type": "code",
   "execution_count": null,
   "metadata": {},
   "outputs": [],
   "source": []
  },
  {
   "cell_type": "code",
   "execution_count": null,
   "metadata": {},
   "outputs": [],
   "source": []
  }
 ],
 "metadata": {
  "kernelspec": {
   "display_name": "Python 3",
   "language": "python",
   "name": "python3"
  },
  "language_info": {
   "codemirror_mode": {
    "name": "ipython",
    "version": 3
   },
   "file_extension": ".py",
   "mimetype": "text/x-python",
   "name": "python",
   "nbconvert_exporter": "python",
   "pygments_lexer": "ipython3",
   "version": "3.8.6"
  }
 },
 "nbformat": 4,
 "nbformat_minor": 4
}
